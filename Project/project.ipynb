{
  "cells": [
    {
      "cell_type": "code",
      "execution_count": 1,
      "metadata": {
        "colab": {
          "base_uri": "https://localhost:8080/"
        },
        "id": "_a4_ov84vYiH",
        "outputId": "70949da9-2b03-47dd-f17d-118f6b382c44"
      },
      "outputs": [
        {
          "output_type": "stream",
          "name": "stdout",
          "text": [
            "Collecting rdkit\n",
            "  Downloading rdkit-2023.3.3-cp310-cp310-manylinux_2_17_x86_64.manylinux2014_x86_64.whl (29.7 MB)\n",
            "\u001b[2K     \u001b[90m━━━━━━━━━━━━━━━━━━━━━━━━━━━━━━━━━━━━━━━━\u001b[0m \u001b[32m29.7/29.7 MB\u001b[0m \u001b[31m66.1 MB/s\u001b[0m eta \u001b[36m0:00:00\u001b[0m\n",
            "\u001b[?25hRequirement already satisfied: numpy in /usr/local/lib/python3.10/dist-packages (from rdkit) (1.23.5)\n",
            "Requirement already satisfied: Pillow in /usr/local/lib/python3.10/dist-packages (from rdkit) (9.4.0)\n",
            "Installing collected packages: rdkit\n",
            "Successfully installed rdkit-2023.3.3\n"
          ]
        }
      ],
      "source": [
        "pip install rdkit"
      ]
    },
    {
      "cell_type": "code",
      "execution_count": 2,
      "metadata": {
        "id": "vm_S0z7XheLj"
      },
      "outputs": [],
      "source": [
        "import numpy as np\n",
        "import pandas as pd\n",
        "\n",
        "from rdkit import Chem\n",
        "from rdkit.Chem import AllChem\n",
        "import rdkit.Chem.Fragments as f\n",
        "import rdkit.Chem.rdMolDescriptors as d\n",
        "from rdkit.Chem import Lipinski as l\n",
        "\n",
        "from sklearn.model_selection import train_test_split\n",
        "from sklearn.preprocessing import MinMaxScaler\n",
        "\n",
        "from sklearn.neural_network import MLPClassifier\n",
        "from sklearn.ensemble import RandomForestClassifier\n",
        "from sklearn.linear_model import LogisticRegression\n",
        "\n",
        "from sklearn.model_selection import StratifiedKFold, cross_val_score, GridSearchCV\n",
        "\n",
        "from sklearn import metrics\n",
        "from sklearn.metrics import auc, roc_curve\n",
        "\n",
        "import matplotlib.pyplot as plt"
      ]
    },
    {
      "cell_type": "markdown",
      "metadata": {
        "id": "O5O7SelnheLn"
      },
      "source": [
        "## Importing Data"
      ]
    },
    {
      "cell_type": "code",
      "execution_count": 3,
      "metadata": {
        "colab": {
          "base_uri": "https://localhost:8080/"
        },
        "id": "55zKRe2Rvyf1",
        "outputId": "a625c377-b069-4a23-e5e2-2eb1c412aa08"
      },
      "outputs": [
        {
          "output_type": "stream",
          "name": "stdout",
          "text": [
            "Mounted at /content/drive\n"
          ]
        }
      ],
      "source": [
        "from google.colab import drive\n",
        "drive.mount('/content/drive')"
      ]
    },
    {
      "cell_type": "code",
      "execution_count": 4,
      "metadata": {
        "id": "ngzMhdVIvndu"
      },
      "outputs": [],
      "source": [
        "# Filepath to shared drive (you have to add the 'Programming for Data Science' folder to your drive)\n",
        "filepath = '/content/drive/MyDrive/Programming for Data Science/Assignment 4/'\n",
        "\n",
        "# Filepath to your own drive folder and files if above doesnt work\n",
        "#filepath = '/content/drive/MyDrive/Colab Notebooks/ID2214/'"
      ]
    },
    {
      "cell_type": "code",
      "execution_count": 5,
      "metadata": {
        "id": "C-Qh2vZQheLp"
      },
      "outputs": [],
      "source": [
        "train_data = pd.read_csv(filepath + \"training_smiles.csv\")"
      ]
    },
    {
      "cell_type": "code",
      "execution_count": 6,
      "metadata": {
        "id": "ICJvx2tWheLq"
      },
      "outputs": [],
      "source": [
        "y = train_data[\"ACTIVE\"]"
      ]
    },
    {
      "cell_type": "code",
      "execution_count": 7,
      "metadata": {
        "id": "XZ_LTDo-heLq"
      },
      "outputs": [],
      "source": [
        "def get_atom_features(dataframe):\n",
        "    df = dataframe.copy()\n",
        "\n",
        "    # Features in arrays\n",
        "    FRAC_CSP3 = []\n",
        "    HEAVY_ATOMS = []\n",
        "    MOL_WEIGHT = []\n",
        "    NHOH = []\n",
        "    NO = []\n",
        "    ALIPH_CARB = []\n",
        "    ALIPH_HETE = []\n",
        "    ALIPH_RING = []\n",
        "    AROM_CARB = []\n",
        "    AROM_HETER = []\n",
        "    AROM_RING = []\n",
        "    H_ACCEPTORS = []\n",
        "    H_DONORS = []\n",
        "    H_ATOMS = []\n",
        "    SATUR_CARBS = []\n",
        "    SATUR_HETER = []\n",
        "    SATUR_RING = []\n",
        "    RING = []\n",
        "\n",
        "\n",
        "    for row in df.index:\n",
        "        smile = df.loc[row,'SMILES']\n",
        "        m = Chem.MolFromSmiles(smile)\n",
        "\n",
        "        FRAC_CSP3.append(l.FractionCSP3(m))\n",
        "        HEAVY_ATOMS.append(l.HeavyAtomCount(m))\n",
        "        MOL_WEIGHT.append(d.CalcExactMolWt(m))\n",
        "        NHOH.append(l.NHOHCount(m))\n",
        "        NO.append(l.NOCount(m))\n",
        "        ALIPH_CARB.append(l.NumAliphaticCarbocycles(m))\n",
        "        ALIPH_HETE.append(l.NumAliphaticHeterocycles(m))\n",
        "        ALIPH_RING.append(l.NumAliphaticRings(m))\n",
        "        AROM_CARB.append(l.NumAromaticCarbocycles(m))\n",
        "        AROM_HETER.append(l.NumAromaticHeterocycles(m))\n",
        "        AROM_RING.append(l.NumAromaticRings(m))\n",
        "        H_ACCEPTORS.append(l.NumHAcceptors(m))\n",
        "        H_DONORS.append(l.NumHDonors(m))\n",
        "        H_ATOMS.append(l.NumHeteroatoms(m))\n",
        "        SATUR_CARBS.append(l.NumSaturatedCarbocycles(m))\n",
        "        SATUR_HETER.append(l.NumSaturatedHeterocycles(m))\n",
        "        SATUR_RING.append(l.NumSaturatedRings(m))\n",
        "        RING.append(l.RingCount(m))\n",
        "\n",
        "\n",
        "    df['FRAC_CSP3'] = FRAC_CSP3\n",
        "    df['HEAVY_ATOMS'] = HEAVY_ATOMS\n",
        "    df['MOL_WEIGHT'] = MOL_WEIGHT\n",
        "    df['NHOH'] = NHOH\n",
        "    df['NO'] = NO\n",
        "    df['ALIPH_CARB'] = ALIPH_CARB\n",
        "    df['ALIPH_HETE'] = ALIPH_HETE\n",
        "    df['ALIPH_RING'] = ALIPH_RING\n",
        "    df['AROM_CARB'] = AROM_CARB\n",
        "    df['AROM_HETER'] = AROM_HETER\n",
        "    df['AROM_RING'] = AROM_RING\n",
        "    df['H_ACCEPTORS'] = H_ACCEPTORS\n",
        "    df['H_DONORS'] = H_DONORS\n",
        "    df['H_ATOMS'] = H_ATOMS\n",
        "    df['SATUR_CARBS'] =  SATUR_CARBS\n",
        "    df['SATUR_HETER'] = SATUR_HETER\n",
        "    df['SATUR_RING'] = SATUR_RING\n",
        "    df['RING'] = RING\n",
        "\n",
        "    df_atom = df.drop([\"INDEX\", 'SMILES'], axis=1)\n",
        "    #display(df_atom.head())\n",
        "\n",
        "    return df_atom"
      ]
    },
    {
      "cell_type": "code",
      "execution_count": 8,
      "metadata": {
        "id": "LyMoUIogheLs"
      },
      "outputs": [],
      "source": [
        "def get_morgan_features(dataframe):\n",
        "\n",
        "    df = dataframe.copy()\n",
        "    MORGAN = []\n",
        "\n",
        "    for row in df.index:\n",
        "        smile = df.loc[row,'SMILES']\n",
        "        m = Chem.MolFromSmiles(smile)\n",
        "\n",
        "        MORGAN.append(np.array(AllChem.GetMorganFingerprintAsBitVect(m,2,nBits=124)))\n",
        "\n",
        "    df_morgan = pd.DataFrame.from_records(MORGAN, columns=['f{}'.format(i) for i in range(MORGAN[0].size)])\n",
        "    #display(df_morgan)\n",
        "\n",
        "    return df_morgan"
      ]
    },
    {
      "cell_type": "code",
      "execution_count": 9,
      "metadata": {
        "id": "GpuLALCNheLt"
      },
      "outputs": [],
      "source": [
        "def get_complete_features(dataframe):\n",
        "    df_complete = pd.merge(df_atom, df_morgan, left_index=True, right_index=True)\n",
        "    display(df_complete)\n",
        "\n",
        "    return df_complete"
      ]
    },
    {
      "cell_type": "code",
      "execution_count": null,
      "metadata": {
        "id": "wADunsx3heLu"
      },
      "outputs": [],
      "source": [
        "df_atom = get_atom_features(train_data).drop(\"ACTIVE\", axis = 1)\n",
        "\n",
        "df_morgan = get_morgan_features(train_data)\n",
        "\n",
        "df_complete = pd.merge(df_atom, df_morgan, left_index=True, right_index=True)"
      ]
    },
    {
      "cell_type": "markdown",
      "metadata": {
        "id": "PGd73dUYheLv"
      },
      "source": [
        "## Split and Normalization"
      ]
    },
    {
      "cell_type": "code",
      "execution_count": 11,
      "metadata": {
        "id": "NT5azG_SheLv"
      },
      "outputs": [],
      "source": [
        "def split(data, y):\n",
        "    x_train, x_val, y_train, y_val = train_test_split(data, y, test_size=0.2, random_state=1, stratify = y)\n",
        "    return x_train, x_val, y_train, y_val\n",
        "\n",
        "\n",
        "# features to normalize\n",
        "norm_features = list(df_atom.columns)\n",
        "\n",
        "def scale(x_train, x_val, label_list):\n",
        "    train = x_train.loc[:, label_list]\n",
        "    val = x_val.loc[:, label_list]\n",
        "\n",
        "    scaler = MinMaxScaler()\n",
        "\n",
        "    train = scaler.fit_transform(train)\n",
        "    val = scaler.transform(val)\n",
        "\n",
        "    x_train.loc[:, label_list] = np.array(train)\n",
        "    x_val.loc[:, label_list] = np.array(val)\n",
        "\n",
        "    return x_train, x_val"
      ]
    },
    {
      "cell_type": "markdown",
      "metadata": {
        "id": "-JlSwDrGheLw"
      },
      "source": [
        "## Models"
      ]
    },
    {
      "cell_type": "code",
      "execution_count": 12,
      "metadata": {
        "id": "oyhMP0RTheLw"
      },
      "outputs": [],
      "source": [
        "def mlp(x_train, x_val,  y_train, y_val, params=None):\n",
        "\n",
        "    if params == None:\n",
        "        model = MLPClassifier(random_state = 10)\n",
        "    else:\n",
        "        model = MLPClassifier(random_state = 10, **params)\n",
        "\n",
        "    model.fit(x_train, y_train)\n",
        "    prediction = model.predict_proba(x_val)\n",
        "    fpr, tpr, thre = metrics.roc_curve(y_val,prediction[:, 1])\n",
        "    auc_ = metrics.auc(fpr,tpr)\n",
        "    return model, auc_, prediction\n",
        "\n",
        "\n",
        "def random_forest(x_train, x_val,  y_train, y_val, params=None):\n",
        "\n",
        "    if params == None:\n",
        "        model = RandomForestClassifier(class_weight='balanced', random_state = 10)\n",
        "    else:\n",
        "        model = RandomForestClassifier(random_state = 10, **params)\n",
        "\n",
        "    model.fit(x_train, y_train)\n",
        "    prediction = model.predict_proba(x_val)\n",
        "    fpr, tpr, thre = metrics.roc_curve(y_val,prediction[:, 1])\n",
        "    auc_ = metrics.auc(fpr,tpr)\n",
        "    return model, auc_, prediction\n",
        "\n",
        "def logistic_regression(x_train, x_val,  y_train, y_val, params=None):\n",
        "\n",
        "    if params == None:\n",
        "        model = LogisticRegression(class_weight='balanced', max_iter=2000)\n",
        "    else:\n",
        "        model = LogisticRegression(max_iter=2000, **params)\n",
        "\n",
        "    model.fit(x_train, y_train)\n",
        "    prediction = model.predict_proba(x_val)\n",
        "    fpr, tpr, thre = metrics.roc_curve(y_val,prediction[:, 1])\n",
        "    auc_ = metrics.auc(fpr,tpr)\n",
        "\n",
        "    return model, auc_, prediction\n",
        "\n",
        "\n",
        "# basic models results, without tuning\n",
        "def baseline(train, y, seed = 0, norm=False, norm_list=norm_features):\n",
        "\n",
        "    np.random.seed(seed)\n",
        "    x_train, x_val, y_train, y_val = split(train, y)\n",
        "\n",
        "    if norm == True:\n",
        "        x_train, x_val = scale(x_train, x_val, norm_list)\n",
        "\n",
        "    lr, lr_auc, lr_prediction = logistic_regression(x_train,x_val,y_train, y_val)\n",
        "    nn, nn_auc, nn_prediction = mlp(x_train,x_val,y_train, y_val)\n",
        "    rf, rf_auc, rf_prediction = random_forest(x_train,x_val,y_train, y_val)\n",
        "    baseline_r = [lr_auc, nn_auc, rf_auc]\n",
        "\n",
        "    # print(\"lr auc without tuning: \" + str(lr_auc))\n",
        "    # print(\"nn auc without tuning: \" + str(nn_auc))\n",
        "    # print(\"rf auc without tuning: \" + str(rf_auc))\n",
        "    print(\"Basaline without tuning: calculation finished\")\n",
        "\n",
        "    return baseline_r"
      ]
    },
    {
      "cell_type": "code",
      "execution_count": 13,
      "metadata": {
        "colab": {
          "base_uri": "https://localhost:8080/",
          "height": 195
        },
        "id": "K78LyLetheLw",
        "outputId": "28214f2d-9c04-496c-ce81-828bf1f01790"
      },
      "outputs": [
        {
          "output_type": "stream",
          "name": "stdout",
          "text": [
            "Basaline without tuning: calculation finished\n",
            "Basaline without tuning: calculation finished\n",
            "Basaline without tuning: calculation finished\n"
          ]
        },
        {
          "output_type": "display_data",
          "data": {
            "text/plain": [
              "           logistic_reg  neural_net  random_forest\n",
              "basic          0.762281    0.681536       0.704159\n",
              "m_f            0.730916    0.734402       0.730848\n",
              "basic+m_f      0.807149    0.800142       0.788136"
            ],
            "text/html": [
              "\n",
              "  <div id=\"df-a4dab128-eae6-4501-a531-c5d6b32a24e4\" class=\"colab-df-container\">\n",
              "    <div>\n",
              "<style scoped>\n",
              "    .dataframe tbody tr th:only-of-type {\n",
              "        vertical-align: middle;\n",
              "    }\n",
              "\n",
              "    .dataframe tbody tr th {\n",
              "        vertical-align: top;\n",
              "    }\n",
              "\n",
              "    .dataframe thead th {\n",
              "        text-align: right;\n",
              "    }\n",
              "</style>\n",
              "<table border=\"1\" class=\"dataframe\">\n",
              "  <thead>\n",
              "    <tr style=\"text-align: right;\">\n",
              "      <th></th>\n",
              "      <th>logistic_reg</th>\n",
              "      <th>neural_net</th>\n",
              "      <th>random_forest</th>\n",
              "    </tr>\n",
              "  </thead>\n",
              "  <tbody>\n",
              "    <tr>\n",
              "      <th>basic</th>\n",
              "      <td>0.762281</td>\n",
              "      <td>0.681536</td>\n",
              "      <td>0.704159</td>\n",
              "    </tr>\n",
              "    <tr>\n",
              "      <th>m_f</th>\n",
              "      <td>0.730916</td>\n",
              "      <td>0.734402</td>\n",
              "      <td>0.730848</td>\n",
              "    </tr>\n",
              "    <tr>\n",
              "      <th>basic+m_f</th>\n",
              "      <td>0.807149</td>\n",
              "      <td>0.800142</td>\n",
              "      <td>0.788136</td>\n",
              "    </tr>\n",
              "  </tbody>\n",
              "</table>\n",
              "</div>\n",
              "    <div class=\"colab-df-buttons\">\n",
              "\n",
              "  <div class=\"colab-df-container\">\n",
              "    <button class=\"colab-df-convert\" onclick=\"convertToInteractive('df-a4dab128-eae6-4501-a531-c5d6b32a24e4')\"\n",
              "            title=\"Convert this dataframe to an interactive table.\"\n",
              "            style=\"display:none;\">\n",
              "\n",
              "  <svg xmlns=\"http://www.w3.org/2000/svg\" height=\"24px\" viewBox=\"0 -960 960 960\">\n",
              "    <path d=\"M120-120v-720h720v720H120Zm60-500h600v-160H180v160Zm220 220h160v-160H400v160Zm0 220h160v-160H400v160ZM180-400h160v-160H180v160Zm440 0h160v-160H620v160ZM180-180h160v-160H180v160Zm440 0h160v-160H620v160Z\"/>\n",
              "  </svg>\n",
              "    </button>\n",
              "\n",
              "  <style>\n",
              "    .colab-df-container {\n",
              "      display:flex;\n",
              "      gap: 12px;\n",
              "    }\n",
              "\n",
              "    .colab-df-convert {\n",
              "      background-color: #E8F0FE;\n",
              "      border: none;\n",
              "      border-radius: 50%;\n",
              "      cursor: pointer;\n",
              "      display: none;\n",
              "      fill: #1967D2;\n",
              "      height: 32px;\n",
              "      padding: 0 0 0 0;\n",
              "      width: 32px;\n",
              "    }\n",
              "\n",
              "    .colab-df-convert:hover {\n",
              "      background-color: #E2EBFA;\n",
              "      box-shadow: 0px 1px 2px rgba(60, 64, 67, 0.3), 0px 1px 3px 1px rgba(60, 64, 67, 0.15);\n",
              "      fill: #174EA6;\n",
              "    }\n",
              "\n",
              "    .colab-df-buttons div {\n",
              "      margin-bottom: 4px;\n",
              "    }\n",
              "\n",
              "    [theme=dark] .colab-df-convert {\n",
              "      background-color: #3B4455;\n",
              "      fill: #D2E3FC;\n",
              "    }\n",
              "\n",
              "    [theme=dark] .colab-df-convert:hover {\n",
              "      background-color: #434B5C;\n",
              "      box-shadow: 0px 1px 3px 1px rgba(0, 0, 0, 0.15);\n",
              "      filter: drop-shadow(0px 1px 2px rgba(0, 0, 0, 0.3));\n",
              "      fill: #FFFFFF;\n",
              "    }\n",
              "  </style>\n",
              "\n",
              "    <script>\n",
              "      const buttonEl =\n",
              "        document.querySelector('#df-a4dab128-eae6-4501-a531-c5d6b32a24e4 button.colab-df-convert');\n",
              "      buttonEl.style.display =\n",
              "        google.colab.kernel.accessAllowed ? 'block' : 'none';\n",
              "\n",
              "      async function convertToInteractive(key) {\n",
              "        const element = document.querySelector('#df-a4dab128-eae6-4501-a531-c5d6b32a24e4');\n",
              "        const dataTable =\n",
              "          await google.colab.kernel.invokeFunction('convertToInteractive',\n",
              "                                                    [key], {});\n",
              "        if (!dataTable) return;\n",
              "\n",
              "        const docLinkHtml = 'Like what you see? Visit the ' +\n",
              "          '<a target=\"_blank\" href=https://colab.research.google.com/notebooks/data_table.ipynb>data table notebook</a>'\n",
              "          + ' to learn more about interactive tables.';\n",
              "        element.innerHTML = '';\n",
              "        dataTable['output_type'] = 'display_data';\n",
              "        await google.colab.output.renderOutput(dataTable, element);\n",
              "        const docLink = document.createElement('div');\n",
              "        docLink.innerHTML = docLinkHtml;\n",
              "        element.appendChild(docLink);\n",
              "      }\n",
              "    </script>\n",
              "  </div>\n",
              "\n",
              "\n",
              "<div id=\"df-03df4f39-c4e6-49d3-8edb-36745bbec576\">\n",
              "  <button class=\"colab-df-quickchart\" onclick=\"quickchart('df-03df4f39-c4e6-49d3-8edb-36745bbec576')\"\n",
              "            title=\"Suggest charts.\"\n",
              "            style=\"display:none;\">\n",
              "\n",
              "<svg xmlns=\"http://www.w3.org/2000/svg\" height=\"24px\"viewBox=\"0 0 24 24\"\n",
              "     width=\"24px\">\n",
              "    <g>\n",
              "        <path d=\"M19 3H5c-1.1 0-2 .9-2 2v14c0 1.1.9 2 2 2h14c1.1 0 2-.9 2-2V5c0-1.1-.9-2-2-2zM9 17H7v-7h2v7zm4 0h-2V7h2v10zm4 0h-2v-4h2v4z\"/>\n",
              "    </g>\n",
              "</svg>\n",
              "  </button>\n",
              "\n",
              "<style>\n",
              "  .colab-df-quickchart {\n",
              "      --bg-color: #E8F0FE;\n",
              "      --fill-color: #1967D2;\n",
              "      --hover-bg-color: #E2EBFA;\n",
              "      --hover-fill-color: #174EA6;\n",
              "      --disabled-fill-color: #AAA;\n",
              "      --disabled-bg-color: #DDD;\n",
              "  }\n",
              "\n",
              "  [theme=dark] .colab-df-quickchart {\n",
              "      --bg-color: #3B4455;\n",
              "      --fill-color: #D2E3FC;\n",
              "      --hover-bg-color: #434B5C;\n",
              "      --hover-fill-color: #FFFFFF;\n",
              "      --disabled-bg-color: #3B4455;\n",
              "      --disabled-fill-color: #666;\n",
              "  }\n",
              "\n",
              "  .colab-df-quickchart {\n",
              "    background-color: var(--bg-color);\n",
              "    border: none;\n",
              "    border-radius: 50%;\n",
              "    cursor: pointer;\n",
              "    display: none;\n",
              "    fill: var(--fill-color);\n",
              "    height: 32px;\n",
              "    padding: 0;\n",
              "    width: 32px;\n",
              "  }\n",
              "\n",
              "  .colab-df-quickchart:hover {\n",
              "    background-color: var(--hover-bg-color);\n",
              "    box-shadow: 0 1px 2px rgba(60, 64, 67, 0.3), 0 1px 3px 1px rgba(60, 64, 67, 0.15);\n",
              "    fill: var(--button-hover-fill-color);\n",
              "  }\n",
              "\n",
              "  .colab-df-quickchart-complete:disabled,\n",
              "  .colab-df-quickchart-complete:disabled:hover {\n",
              "    background-color: var(--disabled-bg-color);\n",
              "    fill: var(--disabled-fill-color);\n",
              "    box-shadow: none;\n",
              "  }\n",
              "\n",
              "  .colab-df-spinner {\n",
              "    border: 2px solid var(--fill-color);\n",
              "    border-color: transparent;\n",
              "    border-bottom-color: var(--fill-color);\n",
              "    animation:\n",
              "      spin 1s steps(1) infinite;\n",
              "  }\n",
              "\n",
              "  @keyframes spin {\n",
              "    0% {\n",
              "      border-color: transparent;\n",
              "      border-bottom-color: var(--fill-color);\n",
              "      border-left-color: var(--fill-color);\n",
              "    }\n",
              "    20% {\n",
              "      border-color: transparent;\n",
              "      border-left-color: var(--fill-color);\n",
              "      border-top-color: var(--fill-color);\n",
              "    }\n",
              "    30% {\n",
              "      border-color: transparent;\n",
              "      border-left-color: var(--fill-color);\n",
              "      border-top-color: var(--fill-color);\n",
              "      border-right-color: var(--fill-color);\n",
              "    }\n",
              "    40% {\n",
              "      border-color: transparent;\n",
              "      border-right-color: var(--fill-color);\n",
              "      border-top-color: var(--fill-color);\n",
              "    }\n",
              "    60% {\n",
              "      border-color: transparent;\n",
              "      border-right-color: var(--fill-color);\n",
              "    }\n",
              "    80% {\n",
              "      border-color: transparent;\n",
              "      border-right-color: var(--fill-color);\n",
              "      border-bottom-color: var(--fill-color);\n",
              "    }\n",
              "    90% {\n",
              "      border-color: transparent;\n",
              "      border-bottom-color: var(--fill-color);\n",
              "    }\n",
              "  }\n",
              "</style>\n",
              "\n",
              "  <script>\n",
              "    async function quickchart(key) {\n",
              "      const quickchartButtonEl =\n",
              "        document.querySelector('#' + key + ' button');\n",
              "      quickchartButtonEl.disabled = true;  // To prevent multiple clicks.\n",
              "      quickchartButtonEl.classList.add('colab-df-spinner');\n",
              "      try {\n",
              "        const charts = await google.colab.kernel.invokeFunction(\n",
              "            'suggestCharts', [key], {});\n",
              "      } catch (error) {\n",
              "        console.error('Error during call to suggestCharts:', error);\n",
              "      }\n",
              "      quickchartButtonEl.classList.remove('colab-df-spinner');\n",
              "      quickchartButtonEl.classList.add('colab-df-quickchart-complete');\n",
              "    }\n",
              "    (() => {\n",
              "      let quickchartButtonEl =\n",
              "        document.querySelector('#df-03df4f39-c4e6-49d3-8edb-36745bbec576 button');\n",
              "      quickchartButtonEl.style.display =\n",
              "        google.colab.kernel.accessAllowed ? 'block' : 'none';\n",
              "    })();\n",
              "  </script>\n",
              "</div>\n",
              "    </div>\n",
              "  </div>\n"
            ]
          },
          "metadata": {}
        }
      ],
      "source": [
        "# baseline our AUC\n",
        "baseline_rows = [\"basic\", \"m_f\", \"basic+m_f\"]\n",
        "baseline_columns = [\"logistic_reg\", \"neural_net\", \"random_forest\"]\n",
        "\n",
        "r1 = baseline(df_atom, y)\n",
        "r2 = baseline(df_morgan, y)\n",
        "r3 = baseline(df_complete, y)\n",
        "\n",
        "baseline_r = [r1, r2, r3]\n",
        "r_df = pd.DataFrame(baseline_r, columns=baseline_columns, index=baseline_rows)\n",
        "display(r_df)"
      ]
    },
    {
      "cell_type": "markdown",
      "metadata": {
        "id": "dqeONWXVheLx"
      },
      "source": [
        "## Tuning Parameters"
      ]
    },
    {
      "cell_type": "code",
      "execution_count": 14,
      "metadata": {
        "id": "Q2oADyeKheLy"
      },
      "outputs": [],
      "source": [
        "def hyper_tuning(x_train,  y_train, model, kf, params):\n",
        "    grid_search = GridSearchCV(model, param_grid=params, cv=kf, scoring='roc_auc')\n",
        "    grid_search.fit(x_train, y_train)\n",
        "    best_params = grid_search.best_params_\n",
        "\n",
        "    return best_params, grid_search"
      ]
    },
    {
      "cell_type": "markdown",
      "metadata": {
        "id": "VgZzJCD-heLy"
      },
      "source": [
        "### Neural Network"
      ]
    },
    {
      "cell_type": "code",
      "execution_count": 15,
      "metadata": {
        "id": "H0xB93-JheLy"
      },
      "outputs": [],
      "source": [
        "nn_params = {\n",
        "    'hidden_layer_sizes': [(100,),(150,)],\n",
        "    'solver': ['sgd', 'adam'],\n",
        "    'alpha': [0.0001, 0.005]\n",
        "}\n",
        "\n",
        "kf = StratifiedKFold(n_splits=5)\n",
        "\n",
        "x_train, x_val, y_train, y_val = split(df_complete, y)\n",
        "#x_train, x_val = scale(x_train, x_val, norm_features)\n",
        "\n",
        "nn, auc, pred = mlp(x_train, x_val,  y_train, y_val)"
      ]
    },
    {
      "cell_type": "code",
      "source": [
        "best_params_nn, grid_search_nn = hyper_tuning(x_train, y_train, model=nn, kf=kf, params=nn_params)\n",
        "nn_updated, nn_auc_updated, nn_prediction_updated = mlp(x_train, x_val,  y_train, y_val, best_params_nn)\n",
        "\n",
        "results_nn = pd.DataFrame.from_dict(grid_search_nn.cv_results_)\n",
        "# display(results_nn)"
      ],
      "metadata": {
        "id": "_oDAPulBSFng"
      },
      "execution_count": 16,
      "outputs": []
    },
    {
      "cell_type": "markdown",
      "metadata": {
        "id": "wu2W8DMFheLz"
      },
      "source": [
        "### Random Forest"
      ]
    },
    {
      "cell_type": "code",
      "execution_count": 17,
      "metadata": {
        "id": "K_Dsj9TyheLz"
      },
      "outputs": [],
      "source": [
        "rf_params = {\n",
        "    'n_estimators': [200, 300, 400],\n",
        "    'class_weight': ['balanced'],\n",
        "    'max_depth': [30, 50]\n",
        "}\n",
        "\n",
        "kf = StratifiedKFold(n_splits=5)\n",
        "\n",
        "x_train, x_val, y_train, y_val = split(df_complete, y)\n",
        "#x_train, x_val = scale(x_train, x_val, norm_features)\n",
        "\n",
        "rf, auc, pred = random_forest(x_train, x_val,  y_train, y_val)"
      ]
    },
    {
      "cell_type": "code",
      "execution_count": 18,
      "metadata": {
        "id": "vPN634IeheLz"
      },
      "outputs": [],
      "source": [
        "best_params_rf, grid_search_rf = hyper_tuning(x_train, y_train, model=rf, kf=kf, params=rf_params)\n",
        "rf_updated, rf_auc_updated, rf_prediction_updated = random_forest(x_train, x_val,  y_train, y_val, best_params_rf)\n",
        "\n",
        "results_rf = pd.DataFrame.from_dict(grid_search_rf.cv_results_)\n",
        "# display(results_rf)"
      ]
    },
    {
      "cell_type": "markdown",
      "metadata": {
        "id": "_WtkF2DKheL0"
      },
      "source": [
        "### Logistic Regression"
      ]
    },
    {
      "cell_type": "code",
      "execution_count": 19,
      "metadata": {
        "id": "QGEYYCQJheL0"
      },
      "outputs": [],
      "source": [
        "lg_params = {\n",
        "    'fit_intercept': [True, False],\n",
        "    'class_weight': ['balanced'],\n",
        "    'penalty': [\"l2\", None]\n",
        "}\n",
        "\n",
        "kf = StratifiedKFold(n_splits=5)\n",
        "\n",
        "x_train, x_val, y_train, y_val = split(df_complete, y)\n",
        "#x_train, x_val = scale(x_train, x_val, norm_features)\n",
        "\n",
        "lg, auc, pred = logistic_regression(x_train, x_val,  y_train, y_val)"
      ]
    },
    {
      "cell_type": "code",
      "execution_count": 20,
      "metadata": {
        "id": "lUneR5FqheL0"
      },
      "outputs": [],
      "source": [
        "best_params_lg, grid_search_lg = hyper_tuning(x_train, y_train, model=lg, kf=kf, params=lg_params)\n",
        "lg_updated, lg_auc_updated, lg_prediction_updated = logistic_regression(x_train, x_val, y_train, y_val, best_params_lg)\n",
        "\n",
        "results_lg = pd.DataFrame.from_dict(grid_search_lg.cv_results_)\n",
        "# display(results_lg)"
      ]
    },
    {
      "cell_type": "markdown",
      "metadata": {
        "id": "PC8sSVXPh8d_"
      },
      "source": [
        "## Validation\n",
        "\n",
        "Validation of best parameters on a validation set"
      ]
    },
    {
      "cell_type": "code",
      "execution_count": 21,
      "metadata": {
        "id": "E-sKuzLshkha",
        "colab": {
          "base_uri": "https://localhost:8080/"
        },
        "outputId": "27421364-b718-4458-8daa-119a96059036"
      },
      "outputs": [
        {
          "output_type": "stream",
          "name": "stdout",
          "text": [
            "AUC Neural Networks:  0.8053911562526535 with best parameters:  {'alpha': 0.0001, 'hidden_layer_sizes': (150,), 'solver': 'adam'}\n",
            "\n",
            "AUC Random Forest:  0.8543416097815154 with best parameters:  {'class_weight': 'balanced', 'max_depth': 30, 'n_estimators': 400}\n",
            "\n",
            "AUC Logistic Regression:  0.8071488634752628 with best parameters:  {'class_weight': 'balanced', 'fit_intercept': True, 'penalty': 'l2'}\n"
          ]
        }
      ],
      "source": [
        "#Neural Networks\n",
        "print(\"AUC Neural Networks: \", nn_auc_updated, \"with best parameters: \", best_params_nn)\n",
        "print()\n",
        "\n",
        "# Random forest\n",
        "print(\"AUC Random Forest: \", rf_auc_updated, \"with best parameters: \", best_params_rf)\n",
        "print()\n",
        "\n",
        "# Logistic regression\n",
        "print(\"AUC Logistic Regression: \", lg_auc_updated, \"with best parameters: \", best_params_lg)"
      ]
    },
    {
      "cell_type": "markdown",
      "metadata": {
        "id": "eM41ZyfkheL1"
      },
      "source": [
        "## Best Model"
      ]
    },
    {
      "cell_type": "code",
      "execution_count": 22,
      "metadata": {
        "id": "oTTLDWetheL1",
        "colab": {
          "base_uri": "https://localhost:8080/"
        },
        "outputId": "128055d5-80f0-4aaa-9d2f-7633ff42f2f0"
      },
      "outputs": [
        {
          "output_type": "stream",
          "name": "stdout",
          "text": [
            "best params: {'class_weight': 'balanced', 'max_depth': 30, 'n_estimators': 400}\n",
            "final auc on val data: 0.8543\n"
          ]
        }
      ],
      "source": [
        "#Choose the best model: random forest\n",
        "\n",
        "final_params = best_params_rf #parameters\n",
        "\n",
        "final_model, final_auc, final_val_prediction  = rf_updated, rf_auc_updated, rf_prediction_updated #model, auc and predictions\n",
        "\n",
        "print(\"best params: \" + str(final_params))\n",
        "print(\"final auc on val data: \" + str(round(final_auc, 4)))"
      ]
    },
    {
      "cell_type": "markdown",
      "metadata": {
        "id": "aVy8y_95heL1"
      },
      "source": [
        "## Test Data"
      ]
    },
    {
      "cell_type": "code",
      "execution_count": null,
      "metadata": {
        "id": "BmHqDhzPheL1"
      },
      "outputs": [],
      "source": [
        "# output the results on test dataset\n",
        "test_data = pd.read_csv(filepath+\"test_smiles.csv\")\n",
        "\n",
        "# add features\n",
        "test_data = pd.merge(get_atom_features(test_data), get_morgan_features(test_data), left_index=True, right_index=True)"
      ]
    },
    {
      "cell_type": "code",
      "source": [
        "#predictions\n",
        "final_results = final_model.predict_proba(test_data)\n",
        "print(final_results)"
      ],
      "metadata": {
        "id": "jH3sNugVMOdI",
        "colab": {
          "base_uri": "https://localhost:8080/"
        },
        "outputId": "62263222-85db-4426-8ed4-39342871fb75"
      },
      "execution_count": 24,
      "outputs": [
        {
          "output_type": "stream",
          "name": "stdout",
          "text": [
            "[[0.99   0.01  ]\n",
            " [0.9925 0.0075]\n",
            " [0.9825 0.0175]\n",
            " ...\n",
            " [0.9925 0.0075]\n",
            " [0.995  0.005 ]\n",
            " [1.     0.    ]]\n"
          ]
        }
      ]
    }
  ],
  "metadata": {
    "colab": {
      "provenance": []
    },
    "kernelspec": {
      "display_name": "Python 3",
      "language": "python",
      "name": "python3"
    },
    "language_info": {
      "codemirror_mode": {
        "name": "ipython",
        "version": 3
      },
      "file_extension": ".py",
      "mimetype": "text/x-python",
      "name": "python",
      "nbconvert_exporter": "python",
      "pygments_lexer": "ipython3",
      "version": "3.7.4"
    }
  },
  "nbformat": 4,
  "nbformat_minor": 0
}